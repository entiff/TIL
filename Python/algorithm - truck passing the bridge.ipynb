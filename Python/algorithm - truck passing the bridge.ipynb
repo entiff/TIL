{
 "cells": [
  {
   "cell_type": "code",
   "execution_count": 22,
   "metadata": {},
   "outputs": [],
   "source": [
    "def is_overweighted(passing_truck, weights):\n",
    "    return sum(passing_truck) > weights    \n",
    "\n",
    "def enqueue(passing_truck, truck_weights):\n",
    "    passing_truck.append(truck_weights)\n",
    "\n",
    "def is_empty(truck_weights):\n",
    "    return len(truck_weights) == 0\n",
    "\n",
    "def dequeue_rear(truck_weights):\n",
    "    truck_weights = truck_weights.remove(truck_weights[len(truck_weights)-1])\n",
    "\n",
    "def solution(bridge_length, weight, truck_weights):\n",
    "    \n",
    "    # passing_truck에 over_weighted가 안될 때까지 enqueue한다.\n",
    "    # passed_truck에 passing_truck을 enqueue한다.\n",
    "    # bridge_length + 들어간 트럭의 개수만큼 t를 더한다.\n",
    "    # passing_truck를 비운다\n",
    "    \n",
    "    # is_empty(wait_truck) = True이면 t를 return한다.\n",
    "    \n",
    "    truck_front = 0\n",
    "    truck_rear = len(truck_weights) - 1\n",
    "    truck_weights = [7,4,5,6]\n",
    "    bridge_length = 2\n",
    "    weights = 10\n",
    "    passing_truck = []\n",
    "    passing_truck_check = []\n",
    "    passed_truck = []\n",
    "    wait_truck = truck_weights\n",
    "    # passing_truck에 over_weighted가 안될 때까지 enqueue한다.\n",
    "    while is_empty(wait_truck) == True:\n",
    "        enqueue(passing_truck_check, wait_truck[truck_front])\n",
    "        if is_overweighted(passing_truck_check, weights) == False:\n",
    "            \n",
    "            enqueue(passing_truck,wait_truck[truck_front])\n",
    "            truck_front +=1\n",
    "            wait_truck = wait_truck.remove(wait_truck[0])\n",
    "        \n",
    "        else:\n",
    "            passed_truck.append(passing_truck)\n",
    "            t += bridge_length + len(passing_truck)\n",
    "            passing_truck = []\n",
    "            passing_truck_check = []\n",
    "            \n",
    "    return t"
   ]
  },
  {
   "cell_type": "code",
   "execution_count": 30,
   "metadata": {},
   "outputs": [],
   "source": [
    "list_ = [1,2,3,4]\n",
    "list_.remove(list_[0])"
   ]
  },
  {
   "cell_type": "code",
   "execution_count": 31,
   "metadata": {},
   "outputs": [
    {
     "data": {
      "text/plain": [
       "[2, 3, 4]"
      ]
     },
     "execution_count": 31,
     "metadata": {},
     "output_type": "execute_result"
    }
   ],
   "source": [
    "list_"
   ]
  },
  {
   "cell_type": "code",
   "execution_count": 13,
   "metadata": {},
   "outputs": [],
   "source": [
    "class BaseQueue:\n",
    "    # 데이터의 추가\n",
    "    def enqueue(self, data):\n",
    "        raise NotImplemented\n",
    "    # 데이터의 꺼내오기\n",
    "    def dequeue(self):\n",
    "        raise NotImplemented\n",
    "    # 데이터 참조하기\n",
    "    def peek(self):\n",
    "        raise NotImplemented\n",
    "    # 비어있는지 확인\n",
    "    def is_empty(self):\n",
    "        raise NotImplemented\n",
    "    # 꽉 차있는지 확인\n",
    "    def is_full(self):\n",
    "        raise NotImplemented\n",
    "    # 리스트 전체 출력\n",
    "    def display(self):\n",
    "        raise NotImplemented\n",
    "\n",
    "class Queue(BaseQueue):\n",
    "    def __init__(self):\n",
    "        self.max = max(self)\n",
    "        self.list = [None] * self.max\n",
    "        self.size = self.front = self.rear = 0\n",
    "    \n",
    "    def is_full(self):\n",
    "        return self.next_idx(self.rear) == self.front\n",
    "        \n",
    "    def is_empty(self):\n",
    "        return self.size == 0\n",
    "        \n",
    "    def next_idx(self, idx):\n",
    "        return (idx + 1) % self.max\n",
    "    \n",
    "    def enqueue(self, data):\n",
    "        if self.is_full():\n",
    "            raise Exception(\"큐가 꽉 찼습니다\")\n",
    "            \n",
    "        self.rear = self.next_idx(self.rear)\n",
    "        self.list[self.rear] = data\n",
    "        self.size += 1\n",
    "        \n",
    "    def dequeue(self):\n",
    "        if self.is_empty():\n",
    "            raise Exception(\"큐가 비었습니다\")\n",
    "        \n",
    "        self.front = self.next_idx(self.front)\n",
    "        return self.list[self.front] \n",
    "    \n",
    "    def peek(self):\n",
    "        return self.list[self.next_idx(self.front)]\n",
    "        "
   ]
  },
  {
   "cell_type": "code",
   "execution_count": 24,
   "metadata": {},
   "outputs": [],
   "source": [
    "passing_truck = [2,3]\n",
    "passing_truck.remove(2)\n",
    "    \n"
   ]
  },
  {
   "cell_type": "code",
   "execution_count": 27,
   "metadata": {},
   "outputs": [
    {
     "data": {
      "text/plain": [
       "1"
      ]
     },
     "execution_count": 27,
     "metadata": {},
     "output_type": "execute_result"
    }
   ],
   "source": [
    "len(passing_truck)"
   ]
  },
  {
   "cell_type": "code",
   "execution_count": 19,
   "metadata": {},
   "outputs": [
    {
     "data": {
      "text/plain": [
       "True"
      ]
     },
     "execution_count": 19,
     "metadata": {},
     "output_type": "execute_result"
    }
   ],
   "source": [
    "sum(passing_truck) > 6"
   ]
  },
  {
   "cell_type": "code",
   "execution_count": null,
   "metadata": {},
   "outputs": [],
   "source": []
  }
 ],
 "metadata": {
  "kernelspec": {
   "display_name": "Python 3",
   "language": "python",
   "name": "python3"
  },
  "language_info": {
   "codemirror_mode": {
    "name": "ipython",
    "version": 3
   },
   "file_extension": ".py",
   "mimetype": "text/x-python",
   "name": "python",
   "nbconvert_exporter": "python",
   "pygments_lexer": "ipython3",
   "version": "3.7.0"
  }
 },
 "nbformat": 4,
 "nbformat_minor": 2
}

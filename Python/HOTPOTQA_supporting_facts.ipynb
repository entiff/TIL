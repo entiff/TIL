{
 "cells": [
  {
   "cell_type": "code",
   "execution_count": 1,
   "metadata": {},
   "outputs": [],
   "source": [
    "import json"
   ]
  },
  {
   "cell_type": "code",
   "execution_count": 35,
   "metadata": {},
   "outputs": [
    {
     "name": "stdout",
     "output_type": "stream",
     "text": [
      "2.384638347743405 0.6728866359439721 12 2\n"
     ]
    }
   ],
   "source": [
    "with open('./hotpot_train_v1.1.json') as hotpot_train:\n",
    "    json_data = json.load(hotpot_train)\n",
    "    \n",
    "sp_train = []\n",
    "for i in range(0, len(json_data)-1):\n",
    "    sp_train.append(json_data[i][\"supporting_facts\"])\n",
    "    \n",
    "sp_count_train = []\n",
    "for i in range(0,len(json_data)-1):    \n",
    "    sp_count_train.append(len(sp_train[i]))\n",
    "    \n",
    "print(np.mean(sp_count_train),np.std(sp_count_train),max(sp_count_train),min(sp_count_train))"
   ]
  },
  {
   "cell_type": "code",
   "execution_count": 36,
   "metadata": {},
   "outputs": [
    {
     "name": "stdout",
     "output_type": "stream",
     "text": [
      "2.4315235008103726 0.7115131773014776 8 2\n"
     ]
    }
   ],
   "source": [
    "with open('./hotpot_dev_distractor_v1.json') as hotpot_dev:\n",
    "    json_data = json.load(hotpot_dev)\n",
    "    \n",
    "sp_dev = []\n",
    "for i in range(0, len(json_data)-1):\n",
    "    sp_dev.append(json_data[i][\"supporting_facts\"])\n",
    "    \n",
    "sp_count_dev = []\n",
    "for i in range(0,len(json_data)-1):    \n",
    "    sp_count_dev.append(len(sp[i]))\n",
    "    \n",
    "print(np.mean(sp_count_dev),np.std(sp_count_dev),max(sp_count_dev),min(sp_count_dev))"
   ]
  },
  {
   "cell_type": "code",
   "execution_count": 41,
   "metadata": {},
   "outputs": [],
   "source": [
    "sp_count = sp_count_train + sp_count_dev"
   ]
  },
  {
   "cell_type": "code",
   "execution_count": 42,
   "metadata": {},
   "outputs": [
    {
     "name": "stdout",
     "output_type": "stream",
     "text": [
      "2.3881859989780274 0.6760003130531956 12 2\n"
     ]
    }
   ],
   "source": [
    "print(np.mean(sp_count),np.std(sp_count),max(sp_count),min(sp_count))"
   ]
  }
 ],
 "metadata": {
  "kernelspec": {
   "display_name": "Python 3",
   "language": "python",
   "name": "python3"
  },
  "language_info": {
   "codemirror_mode": {
    "name": "ipython",
    "version": 3
   },
   "file_extension": ".py",
   "mimetype": "text/x-python",
   "name": "python",
   "nbconvert_exporter": "python",
   "pygments_lexer": "ipython3",
   "version": "3.6.8"
  }
 },
 "nbformat": 4,
 "nbformat_minor": 2
}

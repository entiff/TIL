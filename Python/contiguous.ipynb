{
 "cells": [
  {
   "cell_type": "markdown",
   "metadata": {},
   "source": [
    "## .contiguous()\n",
    "객체를 인접한 메모리에 저장합니다."
   ]
  },
  {
   "cell_type": "code",
   "execution_count": 35,
   "metadata": {},
   "outputs": [
    {
     "name": "stdout",
     "output_type": "stream",
     "text": [
      "tensor([[-1.2949,  1.5862],\n",
      "        [-0.7070, -1.0171],\n",
      "        [-1.1751, -0.4546]]) \n",
      " tensor([[-1.2949, -0.7070, -1.1751],\n",
      "        [ 1.5862, -1.0171, -0.4546]]) \n",
      " tensor(-1.2949) tensor(-1.2949)\n",
      "\n",
      "\n",
      "1080 False True True\n"
     ]
    }
   ],
   "source": [
    "import torch\n",
    "x = torch.randn(3,2)\n",
    "y = torch.transpose(x, 0, 1)\n",
    "print(x,\"\\n\", y, \"\\n\", x[0, 0], y[0,0])\n",
    "print(\"\\n\")\n",
    "y = torch.transpose(x,0,1).contiguous()\n",
    "print(abs(id(x) - id(y)),id(x) == id(y),id(x[0]) == id(y[0]),id(x[0,1]) == id(y[0,1]))"
   ]
  },
  {
   "cell_type": "code",
   "execution_count": 36,
   "metadata": {},
   "outputs": [
    {
     "name": "stdout",
     "output_type": "stream",
     "text": [
      "58064 False True True\n"
     ]
    }
   ],
   "source": [
    "y = torch.transpose(x,0,1)\n",
    "print(abs(id(x) - id(y)),id(x) == id(y),id(x[0])==id(y[0]), id(x[0,1]) == id(y[0,1]))"
   ]
  },
  {
   "cell_type": "code",
   "execution_count": null,
   "metadata": {},
   "outputs": [],
   "source": []
  }
 ],
 "metadata": {
  "kernelspec": {
   "display_name": "Python 3",
   "language": "python",
   "name": "python3"
  },
  "language_info": {
   "codemirror_mode": {
    "name": "ipython",
    "version": 3
   },
   "file_extension": ".py",
   "mimetype": "text/x-python",
   "name": "python",
   "nbconvert_exporter": "python",
   "pygments_lexer": "ipython3",
   "version": "3.7.0"
  }
 },
 "nbformat": 4,
 "nbformat_minor": 2
}

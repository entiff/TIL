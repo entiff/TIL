{
 "cells": [
  {
   "cell_type": "code",
   "execution_count": 6,
   "metadata": {},
   "outputs": [],
   "source": [
    "### 오버라이딩, 클래스, 상속\n",
    "## __init__, super()\n",
    "# __init__함수는 초기화 메서드 혹은 생성자라고 불리며 인스턴스를 만들때 함께 선언해 주어야 합니다.\n",
    "# super()는 자식클래스에서 부모클래스의 메소드를 호출하기 위해 사용합니다.\n",
    "class A:\n",
    "    def __init__(self):\n",
    "        print(\"Class A __init__()\")\n",
    "\n",
    "class B(A):\n",
    "    def __init__(self):\n",
    "        print(\"Class B __init__()\")\n",
    "        \n",
    "class C(A):\n",
    "    def __init__(self):\n",
    "        print(\"Class C __init__()\")\n",
    "        \n",
    "class D(B,C):\n",
    "    def __init__(self):\n",
    "        print(\"Class D __init__()\")"
   ]
  },
  {
   "cell_type": "code",
   "execution_count": 7,
   "metadata": {},
   "outputs": [
    {
     "name": "stdout",
     "output_type": "stream",
     "text": [
      "Class D __init__()\n"
     ]
    }
   ],
   "source": [
    "d = D()"
   ]
  },
  {
   "cell_type": "code",
   "execution_count": 4,
   "metadata": {},
   "outputs": [
    {
     "name": "stdout",
     "output_type": "stream",
     "text": [
      "Class A __init__()\n",
      "Class C __init__()\n",
      "Class B __init__()\n",
      "Class D __init__()\n"
     ]
    }
   ],
   "source": [
    "class A:\n",
    "    def __init__(self):\n",
    "        super(A, self).__init__()\n",
    "        print(\"Class A __init__()\")\n",
    "\n",
    "class B(A):\n",
    "    def __init__(self):\n",
    "        super(B,self).__init__()\n",
    "        print(\"Class B __init__()\")\n",
    "        \n",
    "class C(A):\n",
    "    def __init__(self):\n",
    "        super(C,self).__init__()\n",
    "        print(\"Class C __init__()\")\n",
    "        \n",
    "class D(B,C):\n",
    "    def __init__(self):\n",
    "        super(D,self).__init__()\n",
    "        print(\"Class D __init__()\")"
   ]
  },
  {
   "cell_type": "code",
   "execution_count": 5,
   "metadata": {},
   "outputs": [
    {
     "name": "stdout",
     "output_type": "stream",
     "text": [
      "Class A __init__()\n",
      "Class C __init__()\n",
      "Class B __init__()\n",
      "Class D __init__()\n"
     ]
    }
   ],
   "source": [
    "d = D()"
   ]
  },
  {
   "cell_type": "code",
   "execution_count": null,
   "metadata": {},
   "outputs": [],
   "source": []
  }
 ],
 "metadata": {
  "kernelspec": {
   "display_name": "Python 3",
   "language": "python",
   "name": "python3"
  },
  "language_info": {
   "codemirror_mode": {
    "name": "ipython",
    "version": 3
   },
   "file_extension": ".py",
   "mimetype": "text/x-python",
   "name": "python",
   "nbconvert_exporter": "python",
   "pygments_lexer": "ipython3",
   "version": "3.7.0"
  }
 },
 "nbformat": 4,
 "nbformat_minor": 2
}

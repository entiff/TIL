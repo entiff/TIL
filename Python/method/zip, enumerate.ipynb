{
 "cells": [
  {
   "cell_type": "markdown",
   "metadata": {},
   "source": [
    "## zip, enumerate\n",
    "zip(*iterable)은 동일한 개수로 이루어진 자료형을 묶어주는 역할을 하는 함수입니다.\n",
    "*iterable은 반복가능한 자료형 여러개가 입력으로 가능하다는 의미입니다.\n",
    "\n",
    "enumerate는 순서가 있는 자료형을 입력으로 받아 인덱스 값을 포함하는 enumerate 객체를 리턴합니다.\n",
    "\n",
    "출처: 점프 투 파이썬"
   ]
  },
  {
   "cell_type": "code",
   "execution_count": 7,
   "metadata": {},
   "outputs": [
    {
     "name": "stdout",
     "output_type": "stream",
     "text": [
      "tensor([1, 2, 3]) tensor([1, 2, 3])\n",
      "tensor([2, 3, 4]) tensor([2, 3, 4])\n"
     ]
    }
   ],
   "source": [
    "import torch\n",
    "a = torch.tensor([[1,2,3],[2,3,4]])\n",
    "for l, x in zip(a,a):\n",
    "    print(l,x)"
   ]
  },
  {
   "cell_type": "code",
   "execution_count": 11,
   "metadata": {},
   "outputs": [
    {
     "name": "stdout",
     "output_type": "stream",
     "text": [
      "0 tensor(2)\n",
      "1 tensor(3)\n",
      "2 tensor(4)\n"
     ]
    }
   ],
   "source": [
    "for index, name in enumerate(a[1]):\n",
    "    print(index, name)"
   ]
  },
  {
   "cell_type": "code",
   "execution_count": null,
   "metadata": {},
   "outputs": [],
   "source": []
  }
 ],
 "metadata": {
  "kernelspec": {
   "display_name": "Python 3",
   "language": "python",
   "name": "python3"
  },
  "language_info": {
   "codemirror_mode": {
    "name": "ipython",
    "version": 3
   },
   "file_extension": ".py",
   "mimetype": "text/x-python",
   "name": "python",
   "nbconvert_exporter": "python",
   "pygments_lexer": "ipython3",
   "version": "3.7.0"
  }
 },
 "nbformat": 4,
 "nbformat_minor": 2
}

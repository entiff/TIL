{
 "cells": [
  {
   "cell_type": "code",
   "execution_count": null,
   "metadata": {},
   "outputs": [],
   "source": []
  },
  {
   "cell_type": "code",
   "execution_count": 1,
   "metadata": {
    "ExecuteTime": {
     "end_time": "2018-08-12T12:19:09.170450Z",
     "start_time": "2018-08-12T12:19:06.365972Z"
    }
   },
   "outputs": [],
   "source": [
    "from selenium import webdriver\n",
    "\n",
    "driver = webdriver.Chrome('C:/Users/test/Desktop/BOAZ/session/web crawling/웹크롤링/Selenium/chromedriver_win32/chromedriver')"
   ]
  },
  {
   "cell_type": "code",
   "execution_count": 2,
   "metadata": {
    "ExecuteTime": {
     "end_time": "2018-08-12T12:19:10.733021Z",
     "start_time": "2018-08-12T12:19:09.851363Z"
    }
   },
   "outputs": [],
   "source": [
    "driver.get(\"https://cafe.naver.com/boazbigdata\")"
   ]
  },
  {
   "cell_type": "code",
   "execution_count": 3,
   "metadata": {
    "ExecuteTime": {
     "end_time": "2018-08-12T12:19:17.476586Z",
     "start_time": "2018-08-12T12:19:11.649569Z"
    },
    "collapsed": true
   },
   "outputs": [
    {
     "name": "stdout",
     "output_type": "stream",
     "text": [
      "아이디를 입력하세요: shwksl101\n",
      "비밀번호를 입력하세요: !kth121500\n"
     ]
    }
   ],
   "source": [
    "ID = input(\"아이디를 입력하세요: \")\n",
    "PW = input(\"비밀번호를 입력하세요: \")"
   ]
  },
  {
   "cell_type": "code",
   "execution_count": 4,
   "metadata": {
    "ExecuteTime": {
     "end_time": "2018-08-12T12:19:33.953530Z",
     "start_time": "2018-08-12T12:19:31.749141Z"
    }
   },
   "outputs": [],
   "source": [
    "# ID 입력\n",
    "elem_login = driver.find_element_by_id(\"id\")\n",
    "elem_login.send_keys(ID)\n",
    "# Password 입력\n",
    "elem_login = driver.find_element_by_id(\"pw\")\n",
    "elem_login.send_keys(PW)\n",
    "\n",
    "driver.find_element_by_xpath(\"\"\"//*[@id=\"frmNIDLogin\"]/fieldset/input\"\"\").click()"
   ]
  },
  {
   "cell_type": "code",
   "execution_count": 15,
   "metadata": {
    "ExecuteTime": {
     "end_time": "2018-08-12T12:26:04.424088Z",
     "start_time": "2018-08-12T12:26:04.319328Z"
    }
   },
   "outputs": [
    {
     "data": {
      "text/plain": [
       "<a class=\"gm-tcol-c\" href=\"/ArticleList.nhn?search.clubid=26506451&amp;search.menuid=445&amp;search.boardtype=L\" id=\"menuLink445\" onclick=\"goMenu('445');clickcr(this, 'mnu.normal','','',event);\" target=\"cafe_main\">\n",
       "\t\t\t\t\t\t파이썬 기초2\n",
       "\t\t\t\t\t</a>"
      ]
     },
     "execution_count": 15,
     "metadata": {},
     "output_type": "execute_result"
    }
   ],
   "source": [
    "import bs4\n",
    "from bs4 import BeautifulSoup\n",
    "\n",
    "html = driver.page_source\n",
    "soup = BeautifulSoup(html,'lxml')\n",
    "\n",
    "a = soup.select('#group433 a')\n",
    "\n",
    "a[1]"
   ]
  },
  {
   "cell_type": "code",
   "execution_count": 30,
   "metadata": {
    "ExecuteTime": {
     "end_time": "2018-08-12T12:28:56.732389Z",
     "start_time": "2018-08-12T12:28:56.728399Z"
    }
   },
   "outputs": [],
   "source": [
    "study_list = [a[n].get_text() for n in range(0, len(a))]\n",
    "study_list = study_list[1:21]"
   ]
  },
  {
   "cell_type": "code",
   "execution_count": 19,
   "metadata": {
    "ExecuteTime": {
     "end_time": "2018-08-12T12:27:33.391820Z",
     "start_time": "2018-08-12T12:27:33.387868Z"
    }
   },
   "outputs": [
    {
     "data": {
      "text/plain": [
       "'\\n\\t\\t\\t\\t\\t\\t파이썬 기초1\\n\\t\\t\\t\\t\\t'"
      ]
     },
     "execution_count": 19,
     "metadata": {},
     "output_type": "execute_result"
    }
   ],
   "source": [
    "study"
   ]
  },
  {
   "cell_type": "code",
   "execution_count": 31,
   "metadata": {
    "ExecuteTime": {
     "end_time": "2018-08-12T12:29:05.853000Z",
     "start_time": "2018-08-12T12:29:05.849012Z"
    }
   },
   "outputs": [
    {
     "data": {
      "text/plain": [
       "['\\n\\t\\t\\t\\t\\t\\t파이썬 기초2\\n\\t\\t\\t\\t\\t',\n",
       " '\\n\\t\\t\\t\\t\\t\\tsql 과 파이썬 연동\\n\\t\\t\\t\\t\\t',\n",
       " '\\n\\t\\t\\t\\t\\t\\t선형대수1\\n\\t\\t\\t\\t\\t',\n",
       " '\\n\\t\\t\\t\\t\\t\\tCs강의\\n\\t\\t\\t\\t\\t',\n",
       " '\\n\\t\\t\\t\\t\\t\\t포스코 AI\\n\\t\\t\\t\\t\\t',\n",
       " '\\n\\t\\t\\t\\t\\t\\tSAS\\n\\t\\t\\t\\t\\t',\n",
       " '\\n\\t\\t\\t\\t\\t\\tRshiny 심화\\n\\t\\t\\t\\t\\t',\n",
       " '\\n\\t\\t\\t\\t\\t\\t파이썬 웹 프로그래밍\\n\\t\\t\\t\\t\\t',\n",
       " '\\n\\t\\t\\t\\t\\t\\t일러스트레이터\\n\\t\\t\\t\\t\\t',\n",
       " '\\n\\t\\t\\t\\t\\t\\tR기초\\n\\t\\t\\t\\t\\t',\n",
       " '\\n\\t\\t\\t\\t\\t\\t파이썬 심화\\n\\t\\t\\t\\t\\t',\n",
       " '\\n\\t\\t\\t\\t\\t\\t파이썬 텍스트마이닝\\n\\t\\t\\t\\t\\t',\n",
       " '\\n\\t\\t\\t\\t\\t\\t파이썬 크롤링\\n\\t\\t\\t\\t\\t',\n",
       " '\\n\\t\\t\\t\\t\\t\\t딥러닝 기초\\n\\t\\t\\t\\t\\t',\n",
       " '\\n\\t\\t\\t\\t\\t\\t인터렉티브 시각화\\n\\t\\t\\t\\t\\t',\n",
       " '\\n\\t\\t\\t\\t\\t\\t선형대수2\\n\\t\\t\\t\\t\\t',\n",
       " '\\n\\t\\t\\t\\t\\t\\t멘토멘티A조\\n\\t\\t\\t\\t\\t',\n",
       " '\\n\\t\\t\\t\\t\\t\\t멘토멘티B조\\n\\t\\t\\t\\t\\t',\n",
       " '\\n\\t\\t\\t\\t\\t\\t멘토멘티C조\\n\\t\\t\\t\\t\\t',\n",
       " '\\n\\t\\t\\t\\t\\t\\t멘토멘티D조\\n\\t\\t\\t\\t\\t']"
      ]
     },
     "execution_count": 31,
     "metadata": {},
     "output_type": "execute_result"
    }
   ],
   "source": [
    "study_list"
   ]
  },
  {
   "cell_type": "code",
   "execution_count": null,
   "metadata": {},
   "outputs": [],
   "source": []
  }
 ],
 "metadata": {
  "kernelspec": {
   "display_name": "Python 3",
   "language": "python",
   "name": "python3"
  },
  "language_info": {
   "codemirror_mode": {
    "name": "ipython",
    "version": 3
   },
   "file_extension": ".py",
   "mimetype": "text/x-python",
   "name": "python",
   "nbconvert_exporter": "python",
   "pygments_lexer": "ipython3",
   "version": "3.6.5"
  },
  "latex_envs": {
   "LaTeX_envs_menu_present": true,
   "autoclose": false,
   "autocomplete": true,
   "bibliofile": "biblio.bib",
   "cite_by": "apalike",
   "current_citInitial": 1,
   "eqLabelWithNumbers": true,
   "eqNumInitial": 1,
   "hotkeys": {
    "equation": "Ctrl-E",
    "itemize": "Ctrl-I"
   },
   "labels_anchors": false,
   "latex_user_defs": false,
   "report_style_numbering": false,
   "user_envs_cfg": false
  },
  "toc": {
   "base_numbering": 1,
   "nav_menu": {},
   "number_sections": true,
   "sideBar": true,
   "skip_h1_title": false,
   "title_cell": "Table of Contents",
   "title_sidebar": "Contents",
   "toc_cell": false,
   "toc_position": {},
   "toc_section_display": true,
   "toc_window_display": false
  },
  "varInspector": {
   "cols": {
    "lenName": 16,
    "lenType": 16,
    "lenVar": 40
   },
   "kernels_config": {
    "python": {
     "delete_cmd_postfix": "",
     "delete_cmd_prefix": "del ",
     "library": "var_list.py",
     "varRefreshCmd": "print(var_dic_list())"
    },
    "r": {
     "delete_cmd_postfix": ") ",
     "delete_cmd_prefix": "rm(",
     "library": "var_list.r",
     "varRefreshCmd": "cat(var_dic_list()) "
    }
   },
   "types_to_exclude": [
    "module",
    "function",
    "builtin_function_or_method",
    "instance",
    "_Feature"
   ],
   "window_display": false
  }
 },
 "nbformat": 4,
 "nbformat_minor": 2
}

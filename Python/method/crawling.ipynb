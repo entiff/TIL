{
 "cells": [
  {
   "cell_type": "code",
   "execution_count": null,
   "metadata": {},
   "outputs": [],
   "source": [
    "\"\"\"\n",
    "크롤링할 url은 아래에 있습니다.\n",
    "목표는 페이지, 별점, 리뷰글을 크롤링하는 것입니다.\n",
    "보내드린 result_example.csv 파일과 같이 만들어서 코드와 함께 제출해주세요.\n",
    "result_example.csv는 엑셀로 열면 깨질 수도 있으니 메모장에서 보시거나 파이썬으로 보시면 됩니다.(encoding: utf-8)\n",
    "15페이지까지 크롤링해서 보내주시면 됩니다.\n",
    "\n",
    "데이터 입출력은 csv, pandas 패키지 중에 편한 것을 선택하셔서 쓰시면 됩니다.\n",
    "사용 예시를 살짝 적어놓았습니다. 안 따르셔도 돼요.\n",
    "\"\"\"\n",
    "\n",
    "from bs4 import BeautifulSoup\n",
    "from urllib.request import urlopen\n",
    "import pandas as pd\n",
    "import csv\n",
    "\n",
    "# 크롤링할 url\n",
    "# http://deal.11st.co.kr/product/SellerProductDetail.tmall?method=getProductReviewList&prdNo=87595509&page=1&pageTypCd=first&reviewDispYn=Y&isPreview=false&reviewOptDispYn=n&optSearchBtnAndGraphLayer=n&reviewBottomBtn=Y&openDetailContents=Y&pageSize=10&isIgnoreAuth=false&lctgrNo=1001369&leafCtgrNo=0&groupProductNo=0&groupFirstViewPrdNo=0&selNo=16674487#this\n",
    "\n",
    "# 크롤링한 파일 저장 경로\n",
    "file_path = 'C:/Users/'\n",
    "\n",
    "star = []\n",
    "review = []\n",
    "\n",
    "\n",
    "# # 크롤링한 파일 저장 이름\n",
    "# file_name = 'result_example.csv'\n",
    "#\n",
    "# # csv 패키지 사용할 때, 저장 결과 파일 생성\n",
    "# f = open(file_path + file_name, 'a', encoding='utf-8', newline='')\n",
    "# result = csv.writer(f)\n",
    "# # 첫 행은 열 이름을 써야할 것입니다.\n",
    "# result.writerow(['페이지', '별점', '리뷰'])\n",
    "#\n",
    "# # pandas 사용할 때, 리스트에 모았다가 한번에 df로 만들 수 있습니다.\n",
    "# page_num = []\n",
    "# 둘 중 아무거나 상관없어요^^\n",
    "while\n",
    "for\n",
    "\n",
    "\n",
    "# csv 패키지 사용할 때, 저장 파일 닫기\n",
    "f.close()\n",
    "\n",
    "\n",
    "# pandas 사용할 때, 결과 정리\n",
    "result = pd.DataFrame({'페이지': page_num, '별점': star, '리뷰': review})\n",
    "# 결과 저장\n",
    "result.to_csv(file_path+file_name, encoding='utf-8')"
   ]
  },
  {
   "cell_type": "code",
   "execution_count": 1,
   "metadata": {
    "ExecuteTime": {
     "end_time": "2018-08-12T12:34:42.884032Z",
     "start_time": "2018-08-12T12:34:40.641892Z"
    }
   },
   "outputs": [],
   "source": [
    "from bs4 import BeautifulSoup\n",
    "from urllib.request import urlopen\n",
    "import pandas as pd\n",
    "import csv"
   ]
  },
  {
   "cell_type": "code",
   "execution_count": 60,
   "metadata": {
    "ExecuteTime": {
     "end_time": "2018-08-12T14:42:47.941861Z",
     "start_time": "2018-08-12T14:42:47.938313Z"
    }
   },
   "outputs": [],
   "source": [
    "file_path = 'C:/Users/test/Desktop/'\n",
    "file_name = 'result_example.csv'"
   ]
  },
  {
   "cell_type": "code",
   "execution_count": 69,
   "metadata": {
    "ExecuteTime": {
     "end_time": "2018-08-12T14:52:54.288559Z",
     "start_time": "2018-08-12T14:52:36.232644Z"
    }
   },
   "outputs": [],
   "source": [
    "comment_list = []\n",
    "stars_list = []\n",
    "page_list = []\n",
    "for page in range(1,16):\n",
    "    url = 'http://deal.11st.co.kr/product/SellerProductDetail.tmall?method=getProductReviewList&prdNo=87595509&page='+str(page)+'&pageTypCd=first&reviewDispYn=Y&isPreview=false&reviewOptDispYn=n&optSearchBtnAndGraphLayer=n&reviewBottomBtn=Y&openDetailContents=Y&pageSize=10&isIgnoreAuth=false&lctgrNo=1001369&leafCtgrNo=0&groupProductNo=0&groupFirstViewPrdNo=0&selNo=16674487#this'\n",
    "    html = urlopen(url)\n",
    "    soup = BeautifulSoup(html,'lxml')\n",
    "    #댓글\n",
    "    comments = soup.select('.summ_conts')\n",
    "    comment_list_temp = [comments[n].get_text().strip() for n in range(0, len(comments))]\n",
    "    comment_list = comment_list + comment_list_temp\n",
    "    #별점\n",
    "    stars = soup.select('.selr_star')\n",
    "    stars_list_temp = [stars[n].get_text() for n in range(0, len(stars))]\n",
    "    stars_list = stars_list + [stars_list_temp[i][13] for i in range(len(stars_list_temp))]\n",
    "    #페이지\n",
    "    page_list_temp = [page] * 10\n",
    "    page_list = page_list + page_list_temp"
   ]
  },
  {
   "cell_type": "code",
   "execution_count": 70,
   "metadata": {
    "ExecuteTime": {
     "end_time": "2018-08-12T14:52:57.211822Z",
     "start_time": "2018-08-12T14:52:57.199510Z"
    }
   },
   "outputs": [],
   "source": [
    "result = pd.DataFrame({'page':page_list,'star':stars_list,'comment':comment_list})\n",
    "result.to_csv(file_path+file_name, encoding='utf-8')"
   ]
  },
  {
   "cell_type": "code",
   "execution_count": 67,
   "metadata": {
    "ExecuteTime": {
     "end_time": "2018-08-12T14:50:16.700906Z",
     "start_time": "2018-08-12T14:50:16.693073Z"
    }
   },
   "outputs": [
    {
     "data": {
      "text/plain": [
       "'4'"
      ]
     },
     "execution_count": 67,
     "metadata": {},
     "output_type": "execute_result"
    }
   ],
   "source": [
    "stars_list[1][13]"
   ]
  },
  {
   "cell_type": "code",
   "execution_count": 39,
   "metadata": {
    "ExecuteTime": {
     "end_time": "2018-08-12T14:17:00.399444Z",
     "start_time": "2018-08-12T14:17:00.106914Z"
    }
   },
   "outputs": [
    {
     "data": {
      "text/plain": [
       "['판매자 평점 별5개 중 5개',\n",
       " '판매자 평점 별5개 중 4개',\n",
       " '판매자 평점 별5개 중 5개',\n",
       " '판매자 평점 별5개 중 5개',\n",
       " '판매자 평점 별5개 중 5개',\n",
       " '판매자 평점 별5개 중 5개',\n",
       " '판매자 평점 별5개 중 5개',\n",
       " '판매자 평점 별5개 중 5개',\n",
       " '판매자 평점 별5개 중 4개',\n",
       " '판매자 평점 별5개 중 5개']"
      ]
     },
     "execution_count": 39,
     "metadata": {},
     "output_type": "execute_result"
    }
   ],
   "source": [
    "url = 'http://deal.11st.co.kr/product/SellerProductDetail.tmall?method=getProductReviewList&prdNo=87595509&page=1&pageTypCd=first&reviewDispYn=Y&isPreview=false&reviewOptDispYn=n&optSearchBtnAndGraphLayer=n&reviewBottomBtn=Y&openDetailContents=Y&pageSize=10&isIgnoreAuth=false&lctgrNo=1001369&leafCtgrNo=0&groupProductNo=0&groupFirstViewPrdNo=0&selNo=16674487#this'\n",
    "res = urlopen(url) \n",
    "soup = BeautifulSoup(res,'lxml')\n",
    "a = soup.select('.selr_star')\n",
    "\n",
    "star = [a[n].get_text() for n in range(0, len(a))]\n",
    "star"
   ]
  },
  {
   "cell_type": "code",
   "execution_count": 49,
   "metadata": {
    "ExecuteTime": {
     "end_time": "2018-08-12T14:31:47.965599Z",
     "start_time": "2018-08-12T14:31:47.956497Z"
    }
   },
   "outputs": [
    {
     "name": "stdout",
     "output_type": "stream",
     "text": [
      "['1', '1', '1', '1', '1', '1', '1', '1', '1', '1']\n"
     ]
    }
   ],
   "source": [
    "page_list_temp = []\n",
    "page_list = page_list_temp + ['1'] * 10\n",
    "print(page_list)"
   ]
  },
  {
   "cell_type": "code",
   "execution_count": null,
   "metadata": {},
   "outputs": [],
   "source": []
  }
 ],
 "metadata": {
  "kernelspec": {
   "display_name": "Python 3",
   "language": "python",
   "name": "python3"
  },
  "language_info": {
   "codemirror_mode": {
    "name": "ipython",
    "version": 3
   },
   "file_extension": ".py",
   "mimetype": "text/x-python",
   "name": "python",
   "nbconvert_exporter": "python",
   "pygments_lexer": "ipython3",
   "version": "3.6.5"
  },
  "latex_envs": {
   "LaTeX_envs_menu_present": true,
   "autoclose": false,
   "autocomplete": true,
   "bibliofile": "biblio.bib",
   "cite_by": "apalike",
   "current_citInitial": 1,
   "eqLabelWithNumbers": true,
   "eqNumInitial": 1,
   "hotkeys": {
    "equation": "Ctrl-E",
    "itemize": "Ctrl-I"
   },
   "labels_anchors": false,
   "latex_user_defs": false,
   "report_style_numbering": false,
   "user_envs_cfg": false
  },
  "toc": {
   "base_numbering": 1,
   "nav_menu": {},
   "number_sections": true,
   "sideBar": true,
   "skip_h1_title": false,
   "title_cell": "Table of Contents",
   "title_sidebar": "Contents",
   "toc_cell": false,
   "toc_position": {},
   "toc_section_display": true,
   "toc_window_display": false
  },
  "varInspector": {
   "cols": {
    "lenName": 16,
    "lenType": 16,
    "lenVar": 40
   },
   "kernels_config": {
    "python": {
     "delete_cmd_postfix": "",
     "delete_cmd_prefix": "del ",
     "library": "var_list.py",
     "varRefreshCmd": "print(var_dic_list())"
    },
    "r": {
     "delete_cmd_postfix": ") ",
     "delete_cmd_prefix": "rm(",
     "library": "var_list.r",
     "varRefreshCmd": "cat(var_dic_list()) "
    }
   },
   "types_to_exclude": [
    "module",
    "function",
    "builtin_function_or_method",
    "instance",
    "_Feature"
   ],
   "window_display": false
  }
 },
 "nbformat": 4,
 "nbformat_minor": 2
}

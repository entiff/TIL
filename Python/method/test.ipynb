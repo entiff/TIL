{
 "cells": [
  {
   "cell_type": "markdown",
   "metadata": {},
   "source": [
    "## __init__, super()\n",
    "\n",
    "__init__함수는 초기화 메서드 혹은 생성자라고 불리며 인스턴스를 만들때 함께 선언해 주어야 합니다.\n",
    "\n",
    "super()는 자식클래스에서 부모클래스의 메소드를 호출하기 위해 사용합니다."
   ]
  },
  {
   "cell_type": "markdown",
   "metadata": {},
   "source": [
    "### 오버라이딩, 클래스, 상속"
   ]
  },
  {
   "cell_type": "code",
   "execution_count": 88,
   "metadata": {},
   "outputs": [],
   "source": [
    "class Parent:\n",
    "    def __init__(self, num):\n",
    "        print('parent',num)\n",
    "\n",
    "class Child(Parent):\n",
    "    def __init__(self):\n",
    "        Parent.__init__(5)"
   ]
  },
  {
   "cell_type": "code",
   "execution_count": 86,
   "metadata": {},
   "outputs": [],
   "source": [
    "class father():\n",
    "    def hansome(self):\n",
    "        print(\"잘생겼다\")\n",
    "        \n",
    "class brother(father):\n",
    "    super(father)\n",
    "    '''아들'''\n",
    "\n",
    "class sister(father):\n",
    "    def pretty(self):\n",
    "        print(\"예쁘다\")\n",
    "        \n",
    "    def handsome(self):\n",
    "        self.pretty()"
   ]
  },
  {
   "cell_type": "code",
   "execution_count": 87,
   "metadata": {
    "collapsed": true
   },
   "outputs": [
    {
     "ename": "AttributeError",
     "evalue": "'brother' object has no attribute 'handsome'",
     "output_type": "error",
     "traceback": [
      "\u001b[1;31m---------------------------------------------------------------------------\u001b[0m",
      "\u001b[1;31mAttributeError\u001b[0m                            Traceback (most recent call last)",
      "\u001b[1;32m<ipython-input-87-85bf5a92af86>\u001b[0m in \u001b[0;36m<module>\u001b[1;34m()\u001b[0m\n\u001b[0;32m      1\u001b[0m \u001b[0mbrother\u001b[0m \u001b[1;33m=\u001b[0m \u001b[0mbrother\u001b[0m\u001b[1;33m(\u001b[0m\u001b[1;33m)\u001b[0m\u001b[1;33m\u001b[0m\u001b[0m\n\u001b[1;32m----> 2\u001b[1;33m \u001b[0mbrother\u001b[0m\u001b[1;33m.\u001b[0m\u001b[0mhandsome\u001b[0m\u001b[1;33m(\u001b[0m\u001b[1;33m)\u001b[0m\u001b[1;33m\u001b[0m\u001b[0m\n\u001b[0m\u001b[0;32m      3\u001b[0m \u001b[1;33m\u001b[0m\u001b[0m\n\u001b[0;32m      4\u001b[0m \u001b[0mgirl\u001b[0m \u001b[1;33m=\u001b[0m \u001b[0msister\u001b[0m\u001b[1;33m(\u001b[0m\u001b[1;33m)\u001b[0m\u001b[1;33m\u001b[0m\u001b[0m\n\u001b[0;32m      5\u001b[0m \u001b[0mgirl\u001b[0m\u001b[1;33m.\u001b[0m\u001b[0mhandsome\u001b[0m\u001b[1;33m(\u001b[0m\u001b[1;33m)\u001b[0m\u001b[1;33m\u001b[0m\u001b[0m\n",
      "\u001b[1;31mAttributeError\u001b[0m: 'brother' object has no attribute 'handsome'"
     ]
    }
   ],
   "source": [
    "brother = brother()\n",
    "brother.handsome()\n",
    "\n",
    "girl = sister()\n",
    "girl.handsome()\n",
    "girl.pretty()"
   ]
  },
  {
   "cell_type": "code",
   "execution_count": 54,
   "metadata": {},
   "outputs": [],
   "source": [
    "import torch\n",
    "import torch.nn as nn\n",
    "class Member():\n",
    "    def __init__(self, Id, password):\n",
    "        self.Id = Id\n",
    "        self.password = password\n",
    "        print(\"새로운 Member instance가 생성되었습니다.\")\n",
    "    \n",
    "    def getId(self):    \n",
    "        print(\"id는 :\", self.Id,\"password는 :\", self.password)\n",
    "        return self.Id, self.password"
   ]
  },
  {
   "cell_type": "code",
   "execution_count": 56,
   "metadata": {},
   "outputs": [
    {
     "name": "stdout",
     "output_type": "stream",
     "text": [
      "새로운 Member instance가 생성되었습니다.\n"
     ]
    }
   ],
   "source": [
    "my_member = Member(\"shwksl101\",1011107)\n",
    "my_member.getId()"
   ]
  },
  {
   "cell_type": "code",
   "execution_count": 70,
   "metadata": {},
   "outputs": [],
   "source": [
    "class MemberFeature(Member):\n",
    "    def __init__(self, height, weight, Id, password):\n",
    "        super(MemberFeature, self).__init__()\n",
    "    \n",
    "        self.height = height\n",
    "        self.weight = weight\n",
    "    \n",
    "    def table(self):\n",
    "        return print(self.height, self.weight, self.Id, self.password)"
   ]
  },
  {
   "cell_type": "code",
   "execution_count": 71,
   "metadata": {
    "collapsed": true
   },
   "outputs": [
    {
     "ename": "TypeError",
     "evalue": "__init__() missing 2 required positional arguments: 'Id' and 'password'",
     "output_type": "error",
     "traceback": [
      "\u001b[1;31m---------------------------------------------------------------------------\u001b[0m",
      "\u001b[1;31mTypeError\u001b[0m                                 Traceback (most recent call last)",
      "\u001b[1;32m<ipython-input-71-1b6f5255f10c>\u001b[0m in \u001b[0;36m<module>\u001b[1;34m()\u001b[0m\n\u001b[1;32m----> 1\u001b[1;33m \u001b[0mtaehee\u001b[0m \u001b[1;33m=\u001b[0m \u001b[0mMemberFeature\u001b[0m\u001b[1;33m(\u001b[0m\u001b[1;36m175\u001b[0m\u001b[1;33m,\u001b[0m \u001b[1;36m65\u001b[0m\u001b[1;33m,\u001b[0m \u001b[1;34m\"shwksl101\"\u001b[0m\u001b[1;33m,\u001b[0m \u001b[1;36m1011107\u001b[0m\u001b[1;33m)\u001b[0m\u001b[1;33m\u001b[0m\u001b[0m\n\u001b[0m",
      "\u001b[1;32m<ipython-input-70-45457a4b5529>\u001b[0m in \u001b[0;36m__init__\u001b[1;34m(self, height, weight, Id, password)\u001b[0m\n\u001b[0;32m      1\u001b[0m \u001b[1;32mclass\u001b[0m \u001b[0mMemberFeature\u001b[0m\u001b[1;33m(\u001b[0m\u001b[0mMember\u001b[0m\u001b[1;33m)\u001b[0m\u001b[1;33m:\u001b[0m\u001b[1;33m\u001b[0m\u001b[0m\n\u001b[0;32m      2\u001b[0m     \u001b[1;32mdef\u001b[0m \u001b[0m__init__\u001b[0m\u001b[1;33m(\u001b[0m\u001b[0mself\u001b[0m\u001b[1;33m,\u001b[0m \u001b[0mheight\u001b[0m\u001b[1;33m,\u001b[0m \u001b[0mweight\u001b[0m\u001b[1;33m,\u001b[0m \u001b[0mId\u001b[0m\u001b[1;33m,\u001b[0m \u001b[0mpassword\u001b[0m\u001b[1;33m)\u001b[0m\u001b[1;33m:\u001b[0m\u001b[1;33m\u001b[0m\u001b[0m\n\u001b[1;32m----> 3\u001b[1;33m         \u001b[0msuper\u001b[0m\u001b[1;33m(\u001b[0m\u001b[0mMemberFeature\u001b[0m\u001b[1;33m,\u001b[0m \u001b[0mself\u001b[0m\u001b[1;33m)\u001b[0m\u001b[1;33m.\u001b[0m\u001b[0m__init__\u001b[0m\u001b[1;33m(\u001b[0m\u001b[1;33m)\u001b[0m\u001b[1;33m\u001b[0m\u001b[0m\n\u001b[0m\u001b[0;32m      4\u001b[0m \u001b[1;33m\u001b[0m\u001b[0m\n\u001b[0;32m      5\u001b[0m         \u001b[0mself\u001b[0m\u001b[1;33m.\u001b[0m\u001b[0mheight\u001b[0m \u001b[1;33m=\u001b[0m \u001b[0mheight\u001b[0m\u001b[1;33m\u001b[0m\u001b[0m\n",
      "\u001b[1;31mTypeError\u001b[0m: __init__() missing 2 required positional arguments: 'Id' and 'password'"
     ]
    }
   ],
   "source": [
    "taehee = MemberFeature(175, 65, \"shwksl101\", 1011107)"
   ]
  },
  {
   "cell_type": "code",
   "execution_count": null,
   "metadata": {},
   "outputs": [],
   "source": [
    "class Animal():\n",
    "    def __init__(self,name):\n",
    "        self.name = name\n",
    "        \n",
    "class Human(Animal):\n",
    "    def __init__(self, name, hand):\n",
    "        super().__init__(name)\n",
    "        self.hand = hand"
   ]
  }
 ],
 "metadata": {
  "kernelspec": {
   "display_name": "Python 3",
   "language": "python",
   "name": "python3"
  },
  "language_info": {
   "codemirror_mode": {
    "name": "ipython",
    "version": 3
   },
   "file_extension": ".py",
   "mimetype": "text/x-python",
   "name": "python",
   "nbconvert_exporter": "python",
   "pygments_lexer": "ipython3",
   "version": "3.7.0"
  }
 },
 "nbformat": 4,
 "nbformat_minor": 2
}

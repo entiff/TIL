{
 "cells": [
  {
   "cell_type": "markdown",
   "metadata": {},
   "source": [
    "## squeeze, unsqueeze\n",
    "차원의 size를 조절합니다. 1인 차원을 원하는 곳에 추가하거나 줄일 수 있습니다."
   ]
  },
  {
   "cell_type": "code",
   "execution_count": 3,
   "metadata": {},
   "outputs": [],
   "source": [
    "import torch\n",
    "\n",
    "a = torch.tensor([[1,2,3],[2,2,1],[3,7,7]])"
   ]
  },
  {
   "cell_type": "code",
   "execution_count": 29,
   "metadata": {},
   "outputs": [
    {
     "name": "stdout",
     "output_type": "stream",
     "text": [
      "tensor([[[[1, 2],\n",
      "          [3, 7],\n",
      "          [5, 6]]]]) torch.Size([1, 1, 3, 2])\n",
      "\n",
      " tensor([[[[1, 2],\n",
      "          [3, 7],\n",
      "          [5, 6]]]]) torch.Size([1, 1, 3, 2])\n",
      "\n",
      " tensor([[[[1, 2]],\n",
      "\n",
      "         [[3, 7]],\n",
      "\n",
      "         [[5, 6]]]]) torch.Size([1, 3, 1, 2])\n"
     ]
    }
   ],
   "source": [
    "b = a.unsqueeze(0)\n",
    "\n",
    "print(b,b.size())\n",
    "\n",
    "b = a.unsqueeze(1)\n",
    "\n",
    "print(\"\\n\", b, b.size())\n",
    "\n",
    "b = a.unsqueeze(2)\n",
    "\n",
    "print(\"\\n\",b, b.size())"
   ]
  },
  {
   "cell_type": "code",
   "execution_count": 32,
   "metadata": {},
   "outputs": [
    {
     "name": "stdout",
     "output_type": "stream",
     "text": [
      "torch.Size([1, 3, 2])\n",
      "tensor([[1, 2],\n",
      "        [3, 7],\n",
      "        [5, 6]]) torch.Size([3, 2])\n",
      "tensor([[[1, 2],\n",
      "         [3, 7],\n",
      "         [5, 6]]]) torch.Size([1, 3, 2])\n",
      "tensor([[[1, 2],\n",
      "         [3, 7],\n",
      "         [5, 6]]]) torch.Size([1, 3, 2])\n"
     ]
    }
   ],
   "source": [
    "# 차원이 1이 아닌 차원을 squeeze할 경우 아무 일도 일어나지 않습니다.\n",
    "a = torch.tensor([[[1,2],[3,7],[5,6]]])\n",
    "print(a.size())\n",
    "\n",
    "b = a.squeeze(0)\n",
    "print(b, b.size())\n",
    "\n",
    "b = a.squeeze(1)\n",
    "print(b, b.size())\n",
    "\n",
    "b = a.squeeze(2)\n",
    "print(b, b.size())"
   ]
  },
  {
   "cell_type": "code",
   "execution_count": 36,
   "metadata": {
    "scrolled": true
   },
   "outputs": [
    {
     "name": "stdout",
     "output_type": "stream",
     "text": [
      "torch.Size([1, 3, 1])\n",
      "tensor([[1],\n",
      "        [3],\n",
      "        [5]]) torch.Size([3, 1])\n",
      "tensor([[[1],\n",
      "         [3],\n",
      "         [5]]]) torch.Size([1, 3, 1])\n",
      "tensor([[1, 3, 5]]) torch.Size([1, 3])\n"
     ]
    }
   ],
   "source": [
    "a = torch.tensor([[[1],[3],[5]]])\n",
    "print(a.size())\n",
    "\n",
    "b = a.squeeze(0)\n",
    "print(b, b.size())\n",
    "\n",
    "b = a.squeeze(1)\n",
    "print(b, b.size())\n",
    "\n",
    "b = a.squeeze(2)\n",
    "print(b, b.size())"
   ]
  }
 ],
 "metadata": {
  "kernelspec": {
   "display_name": "Python 3",
   "language": "python",
   "name": "python3"
  },
  "language_info": {
   "codemirror_mode": {
    "name": "ipython",
    "version": 3
   },
   "file_extension": ".py",
   "mimetype": "text/x-python",
   "name": "python",
   "nbconvert_exporter": "python",
   "pygments_lexer": "ipython3",
   "version": "3.7.0"
  }
 },
 "nbformat": 4,
 "nbformat_minor": 2
}

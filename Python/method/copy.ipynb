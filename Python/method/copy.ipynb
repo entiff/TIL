{
 "cells": [
  {
   "cell_type": "code",
   "execution_count": 9,
   "metadata": {},
   "outputs": [
    {
     "name": "stdout",
     "output_type": "stream",
     "text": [
      "Case 1\n",
      "객체의 주소값이 같나요: True\n",
      "내부 객체의 주소값이 같나요: True \n",
      "\n",
      "Case 2\n",
      "객체의 주소값이 같나요: False\n",
      "내부 객체의 주소값이 같나요: True \n",
      "\n",
      "Case 3\n",
      "객체의 주소값이 같나요: False\n",
      "내부 객체의 주소값이 같나요: True \n",
      "\n",
      "Case 4\n",
      "객체의 주소값이 같나요: False\n",
      "내부 객체의 주소값이 같나요: False \n",
      "\n"
     ]
    }
   ],
   "source": [
    "import copy\n",
    "\n",
    "# 지정을 통해 값을 할당하면 객체의 id, 내부 객체의 id가 같습니다\n",
    "\n",
    "a = [[1,2],[3,4]]\n",
    "b = a\n",
    "\n",
    "print(\"Case 1\")\n",
    "print(\"객체의 주소값이 같나요:\", id(a) == id(b))\n",
    "print(\"내부 객체의 주소값이 같나요:\", id(a[0]) == id(b[0]), \"\\n\")\n",
    "\n",
    "# 슬라이스를 통해 값을 할당하면 객체에 새로운 id가 부여됩니다\n",
    "# 그러나 내부 객체의 주소값은 동일합니다\n",
    "\n",
    "a = [[1,2],[3,4]]\n",
    "b = a[:]\n",
    "\n",
    "print(\"Case 2\")\n",
    "print(\"객체의 주소값이 같나요:\", id(a) == id(b))\n",
    "print(\"내부 객체의 주소값이 같나요:\", id(a[0]) == id(b[0]), \"\\n\")\n",
    "\n",
    "# copy.copy를 통해 값을 복사하면 슬라이스를 통해 가져오는 것과 같은 결과가 나옵니다\n",
    "\n",
    "a = [[1,2],[3,4]]\n",
    "b = copy.copy(a)\n",
    "print(\"Case 3\")\n",
    "print(\"객체의 주소값이 같나요:\", id(a) == id(b))\n",
    "print(\"내부 객체의 주소값이 같나요:\", id(a[0]) == id(b[0]), \"\\n\")\n",
    "\n",
    "# copy.deepcopy를 통해 복사하면 객체, 내부 객체의 주소값 모두 다릅니다\n",
    "\n",
    "a = [[1,2],[3,4]]\n",
    "b = copy.deepcopy(a)\n",
    "\n",
    "print(\"Case 4\")\n",
    "print(\"객체의 주소값이 같나요:\", id(a) == id(b))\n",
    "print(\"내부 객체의 주소값이 같나요:\", id(a[0]) == id(b[0]), \"\\n\")\n"
   ]
  }
 ],
 "metadata": {
  "kernelspec": {
   "display_name": "Python 3",
   "language": "python",
   "name": "python3"
  },
  "language_info": {
   "codemirror_mode": {
    "name": "ipython",
    "version": 3
   },
   "file_extension": ".py",
   "mimetype": "text/x-python",
   "name": "python",
   "nbconvert_exporter": "python",
   "pygments_lexer": "ipython3",
   "version": "3.7.0"
  }
 },
 "nbformat": 4,
 "nbformat_minor": 2
}

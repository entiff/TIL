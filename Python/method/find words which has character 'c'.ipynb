{
 "cells": [
  {
   "cell_type": "code",
   "execution_count": 5,
   "metadata": {
    "ExecuteTime": {
     "end_time": "2018-08-16T04:55:12.334508Z",
     "start_time": "2018-08-16T04:55:12.327555Z"
    }
   },
   "outputs": [],
   "source": [
    "file = open('words.txt', 'w')"
   ]
  },
  {
   "cell_type": "code",
   "execution_count": 7,
   "metadata": {
    "ExecuteTime": {
     "end_time": "2018-08-16T04:55:54.523193Z",
     "start_time": "2018-08-16T04:55:54.505919Z"
    }
   },
   "outputs": [
    {
     "data": {
      "text/plain": [
       "463"
      ]
     },
     "execution_count": 7,
     "metadata": {},
     "output_type": "execute_result"
    }
   ],
   "source": [
    "file.write('Just so, you might say to them: \"The proof that the little prince existed is that he was charming, that he laughed, and that he was looking for a sheep. If anybody wants a sheep, that is a proof that he exists.\" And what good would it do to tell them that? They would shrug their shoulders, and treat you like a child. But if you said to them: \"The planet he came from is Asteroid B-612,\" then they would be convinced, and leave you in peace from their questions.')"
   ]
  },
  {
   "cell_type": "code",
   "execution_count": 8,
   "metadata": {
    "ExecuteTime": {
     "end_time": "2018-08-16T04:56:01.797188Z",
     "start_time": "2018-08-16T04:56:01.789918Z"
    }
   },
   "outputs": [],
   "source": [
    "file.close()"
   ]
  },
  {
   "cell_type": "code",
   "execution_count": 87,
   "metadata": {
    "ExecuteTime": {
     "end_time": "2018-08-16T05:33:21.650198Z",
     "start_time": "2018-08-16T05:33:21.642177Z"
    },
    "code_folding": []
   },
   "outputs": [
    {
     "name": "stdout",
     "output_type": "stream",
     "text": [
      "prince\n",
      "charming\n",
      "child\n",
      "came\n",
      "convinced\n",
      "peace\n"
     ]
    }
   ],
   "source": [
    "with open('words.txt','r') as file:\n",
    "    s = file.read()\n",
    "    words = s.split()\n",
    "    word = []\n",
    "    for i in range(0,len(words)):\n",
    "        for j in range(0,len(words[i])):\n",
    "            if words[i][j] == 'c':\n",
    "                word.append(words[i].replace(\".\",\"\").replace(\",\",\"\").replace(\" \",\"\"))\n",
    "                for k in range(1,len(word)):\n",
    "                    if word[k-1] == word[k]:\n",
    "                            word.remove(word[k])\n",
    "\n",
    "    for i in range(len(word)):\n",
    "        print(word[i])"
   ]
  },
  {
   "cell_type": "code",
   "execution_count": 82,
   "metadata": {
    "ExecuteTime": {
     "end_time": "2018-08-16T05:29:01.620073Z",
     "start_time": "2018-08-16T05:29:01.612949Z"
    }
   },
   "outputs": [
    {
     "data": {
      "text/plain": [
       "['prince', 'charming', 'child', 'came', 'convinced', 'convinced', 'peace']"
      ]
     },
     "execution_count": 82,
     "metadata": {},
     "output_type": "execute_result"
    }
   ],
   "source": [
    "word"
   ]
  },
  {
   "cell_type": "code",
   "execution_count": 65,
   "metadata": {
    "ExecuteTime": {
     "end_time": "2018-08-16T05:22:24.904055Z",
     "start_time": "2018-08-16T05:22:24.895793Z"
    }
   },
   "outputs": [
    {
     "data": {
      "text/plain": [
       "['prince', 'charming', 'child', 'came', 'convinced', 'convinced', 'peace']"
      ]
     },
     "execution_count": 65,
     "metadata": {},
     "output_type": "execute_result"
    }
   ],
   "source": [
    "word"
   ]
  },
  {
   "cell_type": "code",
   "execution_count": 25,
   "metadata": {
    "ExecuteTime": {
     "end_time": "2018-08-16T05:06:44.933208Z",
     "start_time": "2018-08-16T05:06:44.925301Z"
    }
   },
   "outputs": [
    {
     "name": "stdout",
     "output_type": "stream",
     "text": [
      "['Just', 'so,', 'you', 'might', 'say', 'to', 'them:', '\"The', 'proof', 'that', 'the', 'little', 'prince', 'existed', 'is', 'that', 'he', 'was', 'charming,', 'that', 'he', 'laughed,', 'and', 'that', 'he', 'was', 'looking', 'for', 'a', 'sheep.', 'If', 'anybody', 'wants', 'a', 'sheep,', 'that', 'is', 'a', 'proof', 'that', 'he', 'exists.\"', 'And', 'what', 'good', 'would', 'it', 'do', 'to', 'tell', 'them', 'that?', 'They', 'would', 'shrug', 'their', 'shoulders,', 'and', 'treat', 'you', 'like', 'a', 'child.', 'But', 'if', 'you', 'said', 'to', 'them:', '\"The', 'planet', 'he', 'came', 'from', 'is', 'Asteroid', 'B-612,\"', 'then', 'they', 'would', 'be', 'convinced,', 'and', 'leave', 'you', 'in', 'peace', 'from', 'their', 'questions.']\n"
     ]
    },
    {
     "data": {
      "text/plain": [
       "'J'"
      ]
     },
     "execution_count": 25,
     "metadata": {},
     "output_type": "execute_result"
    }
   ],
   "source": [
    "words_list = words[0].split()\n",
    "print(words_list)\n",
    "words_list[0][0]"
   ]
  },
  {
   "cell_type": "code",
   "execution_count": 18,
   "metadata": {
    "ExecuteTime": {
     "end_time": "2018-08-16T05:01:30.155119Z",
     "start_time": "2018-08-16T05:01:30.146534Z"
    }
   },
   "outputs": [
    {
     "data": {
      "text/plain": [
       "90"
      ]
     },
     "execution_count": 18,
     "metadata": {},
     "output_type": "execute_result"
    }
   ],
   "source": [
    "len(words_list)"
   ]
  },
  {
   "cell_type": "code",
   "execution_count": 19,
   "metadata": {
    "ExecuteTime": {
     "end_time": "2018-08-16T05:04:07.111988Z",
     "start_time": "2018-08-16T05:04:07.105416Z"
    }
   },
   "outputs": [],
   "source": [
    "word = []"
   ]
  },
  {
   "cell_type": "code",
   "execution_count": 20,
   "metadata": {
    "ExecuteTime": {
     "end_time": "2018-08-16T05:04:09.599394Z",
     "start_time": "2018-08-16T05:04:09.589287Z"
    }
   },
   "outputs": [
    {
     "data": {
      "text/plain": [
       "[]"
      ]
     },
     "execution_count": 20,
     "metadata": {},
     "output_type": "execute_result"
    }
   ],
   "source": [
    "word"
   ]
  },
  {
   "cell_type": "code",
   "execution_count": null,
   "metadata": {},
   "outputs": [],
   "source": []
  }
 ],
 "metadata": {
  "kernelspec": {
   "display_name": "Python 3",
   "language": "python",
   "name": "python3"
  },
  "language_info": {
   "codemirror_mode": {
    "name": "ipython",
    "version": 3
   },
   "file_extension": ".py",
   "mimetype": "text/x-python",
   "name": "python",
   "nbconvert_exporter": "python",
   "pygments_lexer": "ipython3",
   "version": "3.6.5"
  },
  "latex_envs": {
   "LaTeX_envs_menu_present": true,
   "autoclose": false,
   "autocomplete": true,
   "bibliofile": "biblio.bib",
   "cite_by": "apalike",
   "current_citInitial": 1,
   "eqLabelWithNumbers": true,
   "eqNumInitial": 1,
   "hotkeys": {
    "equation": "Ctrl-E",
    "itemize": "Ctrl-I"
   },
   "labels_anchors": false,
   "latex_user_defs": false,
   "report_style_numbering": false,
   "user_envs_cfg": false
  },
  "toc": {
   "base_numbering": 1,
   "nav_menu": {},
   "number_sections": true,
   "sideBar": true,
   "skip_h1_title": false,
   "title_cell": "Table of Contents",
   "title_sidebar": "Contents",
   "toc_cell": false,
   "toc_position": {},
   "toc_section_display": true,
   "toc_window_display": false
  },
  "varInspector": {
   "cols": {
    "lenName": 16,
    "lenType": 16,
    "lenVar": 40
   },
   "kernels_config": {
    "python": {
     "delete_cmd_postfix": "",
     "delete_cmd_prefix": "del ",
     "library": "var_list.py",
     "varRefreshCmd": "print(var_dic_list())"
    },
    "r": {
     "delete_cmd_postfix": ") ",
     "delete_cmd_prefix": "rm(",
     "library": "var_list.r",
     "varRefreshCmd": "cat(var_dic_list()) "
    }
   },
   "types_to_exclude": [
    "module",
    "function",
    "builtin_function_or_method",
    "instance",
    "_Feature"
   ],
   "window_display": false
  }
 },
 "nbformat": 4,
 "nbformat_minor": 2
}

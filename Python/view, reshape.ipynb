{
 "cells": [
  {
   "cell_type": "markdown",
   "metadata": {},
   "source": [
    "## view, reshape\n",
    "객체의 배열을 재구성합니다.\n",
    "reshape은 size 함수의 순서대로 각 차원에 들어갈 객체의 개수를 넣습니다.  \n",
    "-1을 넣으면 그 값을 원래 배열의 길이와 남은 차원으로 추정합니다."
   ]
  },
  {
   "cell_type": "code",
   "execution_count": 18,
   "metadata": {},
   "outputs": [
    {
     "name": "stdout",
     "output_type": "stream",
     "text": [
      "tensor([[[1, 2, 3],\n",
      "         [1, 2, 3]]])\n",
      "변환 전: torch.Size([1, 2, 3])\n",
      "\n",
      " tensor([[[1, 2],\n",
      "         [3, 1],\n",
      "         [2, 3]]])\n",
      "변환 후: torch.Size([1, 3, 2])\n",
      "\n",
      " tensor([[[1, 2],\n",
      "         [3, 1],\n",
      "         [2, 3]]])\n",
      "변환 후: torch.Size([1, 3, 2])\n",
      "\n",
      " tensor([[[1],\n",
      "         [2],\n",
      "         [3],\n",
      "         [1],\n",
      "         [2],\n",
      "         [3]]])\n",
      "변환 후: torch.Size([1, 6, 1])\n"
     ]
    }
   ],
   "source": [
    "# 첫번째 = number of batches\n",
    "# 두번째 = 행(number of tokens)\n",
    "# 세번째 = 열(number of dimension)\n",
    "\n",
    "import torch\n",
    "example = torch.tensor([[[1,2,3],[1,2,3]]])\n",
    "print(example)\n",
    "print(\"변환 전:\", example.shape)\n",
    "\n",
    "example = example.reshape(1,3,2)\n",
    "\n",
    "print(\"\\n\",example)\n",
    "print(\"변환 후:\", example.shape)\n",
    "\n",
    "example = example.reshape(1,-1,2)\n",
    "\n",
    "print(\"\\n\",example)\n",
    "print(\"변환 후:\", example.shape)\n",
    "\n",
    "example = example.reshape(1,6,-1)\n",
    "\n",
    "print(\"\\n\",example)\n",
    "print(\"변환 후:\", example.shape)"
   ]
  },
  {
   "cell_type": "code",
   "execution_count": 19,
   "metadata": {},
   "outputs": [
    {
     "name": "stdout",
     "output_type": "stream",
     "text": [
      "tensor([[[1, 2, 3],\n",
      "         [1, 2, 3]]])\n",
      "변환 전: torch.Size([1, 2, 3])\n",
      "\n",
      " tensor([[[1, 2],\n",
      "         [3, 1],\n",
      "         [2, 3]]])\n",
      "변환 후: torch.Size([1, 3, 2])\n",
      "\n",
      " tensor([[[1, 2],\n",
      "         [3, 1],\n",
      "         [2, 3]]])\n",
      "변환 후: torch.Size([1, 3, 2])\n",
      "\n",
      " tensor([[[1],\n",
      "         [2],\n",
      "         [3],\n",
      "         [1],\n",
      "         [2],\n",
      "         [3]]])\n",
      "변환 후: torch.Size([1, 6, 1])\n"
     ]
    }
   ],
   "source": [
    "# 첫번째 = number of batches\n",
    "# 두번째 = 행(number of tokens)\n",
    "# 세번째 = 열(number of dimension)\n",
    "\n",
    "import torch\n",
    "example = torch.tensor([[[1,2,3],[1,2,3]]])\n",
    "print(example)\n",
    "print(\"변환 전:\", example.shape)\n",
    "\n",
    "example = example.view(1,3,2)\n",
    "\n",
    "print(\"\\n\",example)\n",
    "print(\"변환 후:\", example.shape)\n",
    "\n",
    "example = example.view(1,-1,2)\n",
    "\n",
    "print(\"\\n\",example)\n",
    "print(\"변환 후:\", example.shape)\n",
    "\n",
    "example = example.view(1,6,-1)\n",
    "\n",
    "print(\"\\n\",example)\n",
    "print(\"변환 후:\", example.shape)"
   ]
  },
  {
   "cell_type": "code",
   "execution_count": null,
   "metadata": {},
   "outputs": [],
   "source": []
  }
 ],
 "metadata": {
  "kernelspec": {
   "display_name": "Python 3",
   "language": "python",
   "name": "python3"
  },
  "language_info": {
   "codemirror_mode": {
    "name": "ipython",
    "version": 3
   },
   "file_extension": ".py",
   "mimetype": "text/x-python",
   "name": "python",
   "nbconvert_exporter": "python",
   "pygments_lexer": "ipython3",
   "version": "3.7.0"
  }
 },
 "nbformat": 4,
 "nbformat_minor": 2
}

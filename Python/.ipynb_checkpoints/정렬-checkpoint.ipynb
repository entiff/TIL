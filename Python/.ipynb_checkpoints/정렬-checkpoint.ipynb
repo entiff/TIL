{
 "cells": [
  {
   "cell_type": "markdown",
   "metadata": {},
   "source": [
    "## Selection algorithm"
   ]
  },
  {
   "cell_type": "code",
   "execution_count": 51,
   "metadata": {},
   "outputs": [
    {
     "name": "stdout",
     "output_type": "stream",
     "text": [
      "[1, 6, 5, 3, 5, 8, 1, 8, 4]\n",
      "[1, 1, 5, 3, 5, 8, 6, 8, 4]\n",
      "[1, 1, 3, 5, 5, 8, 6, 8, 4]\n",
      "[1, 1, 3, 4, 5, 8, 6, 8, 5]\n",
      "[1, 1, 3, 4, 5, 8, 6, 8, 5]\n",
      "[1, 1, 3, 4, 5, 5, 6, 8, 8]\n",
      "[1, 1, 3, 4, 5, 5, 6, 8, 8]\n",
      "[1, 1, 3, 4, 5, 5, 6, 8, 8]\n"
     ]
    }
   ],
   "source": [
    "# 리스트를 돌면서 가장 작은 최소값을 첫번째, 2번째 3번째와 바꾼다.\n",
    "number = [5,6,1,3,5,8,1,8,4]\n",
    "for i in range(len(number)-1):\n",
    "    min = number[i]\n",
    "    for j in number[i:]:\n",
    "        if min > j:\n",
    "            min = j\n",
    "        else:\n",
    "            pass\n",
    "    tmp_number = number[i:]\n",
    "    number[tmp_number.index(min)+i] = number[i] \n",
    "    number[i] = min\n",
    "    print(number)"
   ]
  },
  {
   "cell_type": "markdown",
   "metadata": {},
   "source": [
    "## Insertion sort"
   ]
  },
  {
   "cell_type": "code",
   "execution_count": 79,
   "metadata": {},
   "outputs": [
    {
     "name": "stdout",
     "output_type": "stream",
     "text": [
      "[3, 5]\n",
      "[3, 5, 8]\n",
      "[1, 3, 5, 8]\n",
      "[1, 2, 3, 5, 8]\n",
      "[1, 2, 3, 5, 7, 8]\n",
      "[1, 2, 2, 3, 5, 7, 8]\n",
      "[1, 2, 2, 3, 3, 5, 7, 8]\n",
      "[1, 2, 2, 3, 3, 5, 5, 7, 8]\n",
      "[1, 2, 2, 3, 3, 5, 5, 7, 7, 8]\n",
      "[1, 2, 2, 3, 3, 5, 5, 7, 7, 8, 8]\n",
      "[1, 2, 2, 3, 3, 5, 5, 6, 7, 7, 8, 8]\n",
      "[1, 2, 2, 3, 3, 4, 5, 5, 6, 7, 7, 8, 8]\n",
      "[1, 2, 2, 2, 3, 3, 4, 5, 5, 6, 7, 7, 8, 8]\n",
      "[1, 2, 2, 2, 3, 3, 4, 5, 5, 6, 6, 7, 7, 8, 8]\n",
      "[1, 2, 2, 2, 3, 3, 4, 5, 5, 6, 6, 7, 7, 8, 8, 8]\n",
      "[1, 2, 2, 2, 3, 3, 4, 5, 5, 6, 6, 7, 7, 8, 8, 8, 9]\n",
      "[0, 1, 2, 2, 2, 3, 3, 4, 5, 5, 6, 6, 7, 7, 8, 8, 8, 9]\n"
     ]
    }
   ],
   "source": [
    "number = [5,3,8,1,2,7,2,3,5,7,8,6,4,2,6,8,9,0]\n",
    "tmp_number = [number[0]]\n",
    "for i in range(1,len(number)):\n",
    "    for j in range(len(tmp_number)):\n",
    "        if number[i] < tmp_number[j]:\n",
    "            tmp_number.insert(j,number[i])\n",
    "            break\n",
    "        elif j == len(tmp_number)-1:\n",
    "            tmp_number.append(number[i])\n",
    "            break\n",
    "    print(tmp_number)"
   ]
  },
  {
   "cell_type": "markdown",
   "metadata": {},
   "source": [
    "## Bubble sorting"
   ]
  },
  {
   "cell_type": "code",
   "execution_count": 78,
   "metadata": {},
   "outputs": [
    {
     "name": "stdout",
     "output_type": "stream",
     "text": [
      "[3, 5, 1, 2, 7, 2, 8, 4, 7, 3, 7, 8, 9, 3, 1, 2, 3, 5, 7, 8, 3, 8, 3, 8, 7, 3, 9]\n",
      "[3, 1, 2, 5, 2, 7, 4, 7, 3, 7, 8, 8, 3, 1, 2, 3, 5, 7, 8, 3, 8, 3, 8, 7, 3, 9, 9]\n",
      "[1, 2, 3, 2, 5, 4, 7, 3, 7, 7, 8, 3, 1, 2, 3, 5, 7, 8, 3, 8, 3, 8, 7, 3, 8, 9, 9]\n",
      "[1, 2, 2, 3, 4, 5, 3, 7, 7, 7, 3, 1, 2, 3, 5, 7, 8, 3, 8, 3, 8, 7, 3, 8, 8, 9, 9]\n",
      "[1, 2, 2, 3, 4, 3, 5, 7, 7, 3, 1, 2, 3, 5, 7, 7, 3, 8, 3, 8, 7, 3, 8, 8, 8, 9, 9]\n",
      "[1, 2, 2, 3, 3, 4, 5, 7, 3, 1, 2, 3, 5, 7, 7, 3, 7, 3, 8, 7, 3, 8, 8, 8, 8, 9, 9]\n",
      "[1, 2, 2, 3, 3, 4, 5, 3, 1, 2, 3, 5, 7, 7, 3, 7, 3, 7, 7, 3, 8, 8, 8, 8, 8, 9, 9]\n",
      "[1, 2, 2, 3, 3, 4, 3, 1, 2, 3, 5, 5, 7, 3, 7, 3, 7, 7, 3, 7, 8, 8, 8, 8, 8, 9, 9]\n",
      "[1, 2, 2, 3, 3, 3, 1, 2, 3, 4, 5, 5, 3, 7, 3, 7, 7, 3, 7, 7, 8, 8, 8, 8, 8, 9, 9]\n",
      "[1, 2, 2, 3, 3, 1, 2, 3, 3, 4, 5, 3, 5, 3, 7, 7, 3, 7, 7, 7, 8, 8, 8, 8, 8, 9, 9]\n",
      "[1, 2, 2, 3, 1, 2, 3, 3, 3, 4, 3, 5, 3, 5, 7, 3, 7, 7, 7, 7, 8, 8, 8, 8, 8, 9, 9]\n",
      "[1, 2, 2, 1, 2, 3, 3, 3, 3, 3, 4, 3, 5, 5, 3, 7, 7, 7, 7, 7, 8, 8, 8, 8, 8, 9, 9]\n",
      "[1, 2, 1, 2, 2, 3, 3, 3, 3, 3, 3, 4, 5, 3, 5, 7, 7, 7, 7, 7, 8, 8, 8, 8, 8, 9, 9]\n",
      "[1, 1, 2, 2, 2, 3, 3, 3, 3, 3, 3, 4, 3, 5, 5, 7, 7, 7, 7, 7, 8, 8, 8, 8, 8, 9, 9]\n",
      "[1, 1, 2, 2, 2, 3, 3, 3, 3, 3, 3, 3, 4, 5, 5, 7, 7, 7, 7, 7, 8, 8, 8, 8, 8, 9, 9]\n",
      "[1, 1, 2, 2, 2, 3, 3, 3, 3, 3, 3, 3, 4, 5, 5, 7, 7, 7, 7, 7, 8, 8, 8, 8, 8, 9, 9]\n",
      "[1, 1, 2, 2, 2, 3, 3, 3, 3, 3, 3, 3, 4, 5, 5, 7, 7, 7, 7, 7, 8, 8, 8, 8, 8, 9, 9]\n",
      "[1, 1, 2, 2, 2, 3, 3, 3, 3, 3, 3, 3, 4, 5, 5, 7, 7, 7, 7, 7, 8, 8, 8, 8, 8, 9, 9]\n",
      "[1, 1, 2, 2, 2, 3, 3, 3, 3, 3, 3, 3, 4, 5, 5, 7, 7, 7, 7, 7, 8, 8, 8, 8, 8, 9, 9]\n",
      "[1, 1, 2, 2, 2, 3, 3, 3, 3, 3, 3, 3, 4, 5, 5, 7, 7, 7, 7, 7, 8, 8, 8, 8, 8, 9, 9]\n",
      "[1, 1, 2, 2, 2, 3, 3, 3, 3, 3, 3, 3, 4, 5, 5, 7, 7, 7, 7, 7, 8, 8, 8, 8, 8, 9, 9]\n",
      "[1, 1, 2, 2, 2, 3, 3, 3, 3, 3, 3, 3, 4, 5, 5, 7, 7, 7, 7, 7, 8, 8, 8, 8, 8, 9, 9]\n",
      "[1, 1, 2, 2, 2, 3, 3, 3, 3, 3, 3, 3, 4, 5, 5, 7, 7, 7, 7, 7, 8, 8, 8, 8, 8, 9, 9]\n",
      "[1, 1, 2, 2, 2, 3, 3, 3, 3, 3, 3, 3, 4, 5, 5, 7, 7, 7, 7, 7, 8, 8, 8, 8, 8, 9, 9]\n",
      "[1, 1, 2, 2, 2, 3, 3, 3, 3, 3, 3, 3, 4, 5, 5, 7, 7, 7, 7, 7, 8, 8, 8, 8, 8, 9, 9]\n",
      "[1, 1, 2, 2, 2, 3, 3, 3, 3, 3, 3, 3, 4, 5, 5, 7, 7, 7, 7, 7, 8, 8, 8, 8, 8, 9, 9]\n"
     ]
    }
   ],
   "source": [
    "number = [5,3,8,1,2,7,2,9,4,7,3,7,8,9,3,1,2,3,5,7,8,3,8,3,8,7,3]\n",
    "for i in range(len(number)-1):\n",
    "    for j in range(1,len(number)-i):\n",
    "        tmp_number = number[j-1]\n",
    "        if tmp_number > number[j]:\n",
    "            number[j-1] = number[j]\n",
    "            number[j] = tmp_number\n",
    "    print(number)"
   ]
  },
  {
   "cell_type": "code",
   "execution_count": 1,
   "metadata": {},
   "outputs": [
    {
     "data": {
      "text/plain": [
       "['1', '2', '3']"
      ]
     },
     "execution_count": 1,
     "metadata": {},
     "output_type": "execute_result"
    }
   ],
   "source": [
    "stack = ['1','2','3','4']\n",
    "stack[:-1]"
   ]
  },
  {
   "cell_type": "code",
   "execution_count": 2,
   "metadata": {},
   "outputs": [
    {
     "data": {
      "text/plain": [
       "['1', '2']"
      ]
     },
     "execution_count": 2,
     "metadata": {},
     "output_type": "execute_result"
    }
   ],
   "source": [
    "stack[:-2]"
   ]
  },
  {
   "cell_type": "code",
   "execution_count": null,
   "metadata": {},
   "outputs": [],
   "source": []
  }
 ],
 "metadata": {
  "kernelspec": {
   "display_name": "Python 3",
   "language": "python",
   "name": "python3"
  },
  "language_info": {
   "codemirror_mode": {
    "name": "ipython",
    "version": 3
   },
   "file_extension": ".py",
   "mimetype": "text/x-python",
   "name": "python",
   "nbconvert_exporter": "python",
   "pygments_lexer": "ipython3",
   "version": "3.7.3"
  }
 },
 "nbformat": 4,
 "nbformat_minor": 2
}
